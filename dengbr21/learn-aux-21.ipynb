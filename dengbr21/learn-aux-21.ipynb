{
 "cells": [
  {
   "cell_type": "code",
   "execution_count": 15,
   "metadata": {},
   "outputs": [],
   "source": [
    "import pandas as pd\n",
    "dengue = pd.read_excel('DENGBR21.xlsx')\n",
    "dengue = dengue.dropna()"
   ]
  },
  {
   "cell_type": "markdown",
   "metadata": {},
   "source": [
    "Dicionário de Classificação: 5 - Descartado |  10 - Dengue | 11 - Dengue com sinais de alarme | 12 - Dengue grave | 13 - Chikungunya | 0.0 Células vazias"
   ]
  },
  {
   "cell_type": "code",
   "execution_count": 22,
   "metadata": {},
   "outputs": [
    {
     "data": {
      "text/plain": [
       "Series([], Name: count, dtype: int64)"
      ]
     },
     "execution_count": 22,
     "metadata": {},
     "output_type": "execute_result"
    }
   ],
   "source": [
    "#dengue['CLASSI_FIN'] = dengue['CLASSI_FIN'].dropna()\n",
    "#dengue['CLASSI_FIN'].isnull().sum()\n",
    "dengue['CLASSI_FIN'].value_counts()"
   ]
  },
  {
   "cell_type": "code",
   "execution_count": 23,
   "metadata": {},
   "outputs": [
    {
     "data": {
      "text/plain": [
       "FEBRE         0\n",
       "MIALGIA       0\n",
       "CEFALEIA      0\n",
       "EXANTEMA      0\n",
       "VOMITO        0\n",
       "NAUSEA        0\n",
       "DOR_COSTAS    0\n",
       "CONJUNTVIT    0\n",
       "ARTRITE       0\n",
       "ARTRALGIA     0\n",
       "PETEQUIA_N    0\n",
       "LEUCOPENIA    0\n",
       "LACO          0\n",
       "DOR_RETRO     0\n",
       "DIABETES      0\n",
       "HEMATOLOG     0\n",
       "HEPATOPAT     0\n",
       "RENAL         0\n",
       "HIPERTENSA    0\n",
       "ACIDO_PEPT    0\n",
       "AUTO_IMUNE    0\n",
       "dtype: int64"
      ]
     },
     "execution_count": 23,
     "metadata": {},
     "output_type": "execute_result"
    }
   ],
   "source": [
    "dengue_sintomas = dengue.iloc[:, 23:44]\n",
    "#dengue_sintomas.value_counts()\n",
    "dengue_sintomas.isnull().sum()"
   ]
  },
  {
   "cell_type": "code",
   "execution_count": 24,
   "metadata": {},
   "outputs": [],
   "source": [
    "from sklearn.preprocessing import LabelEncoder\n",
    "codificador = LabelEncoder() #Transformador codificador\n",
    "\n",
    "dengue['CLASSI_FIN'] = dengue['CLASSI_FIN'].astype(int) #Mudança de objeto para string\n",
    "dengue['CLASSI_FIN'] = codificador.fit_transform(dengue['CLASSI_FIN']) #Mundaça de string codificada para tipo numérico\n",
    "\n",
    " #Criação de lista base para incluir no laço de repetição\n",
    "sintomas = ['FEBRE','MIALGIA', 'CEFALEIA', 'EXANTEMA', 'VOMITO', 'NAUSEA',\n",
    "             'DOR_COSTAS', 'CONJUNTVIT', 'ARTRITE', 'ARTRALGIA', 'PETEQUIA_N',\n",
    "             'LEUCOPENIA', 'LACO', 'DOR_RETRO', 'DIABETES', 'HEMATOLOG', 'HEPATOPAT',\n",
    "             'RENAL', 'HIPERTENSA', 'ACIDO_PEPT', 'AUTO_IMUNE']\n",
    "\n",
    " # Loop para converter e codificar cada sintoma\n",
    "for sintoma in sintomas:\n",
    "     dengue_sintomas[sintoma] = dengue_sintomas[sintoma].astype(int)\n",
    "     dengue_sintomas[sintoma] = codificador.fit_transform(dengue_sintomas[sintoma])"
   ]
  },
  {
   "cell_type": "code",
   "execution_count": 26,
   "metadata": {},
   "outputs": [
    {
     "ename": "ValueError",
     "evalue": "With n_samples=0, test_size=0.3 and train_size=None, the resulting train set will be empty. Adjust any of the aforementioned parameters.",
     "output_type": "error",
     "traceback": [
      "\u001b[1;31m---------------------------------------------------------------------------\u001b[0m",
      "\u001b[1;31mValueError\u001b[0m                                Traceback (most recent call last)",
      "Cell \u001b[1;32mIn[26], line 14\u001b[0m\n\u001b[0;32m     11\u001b[0m \u001b[38;5;28;01mfrom\u001b[39;00m \u001b[38;5;21;01msklearn\u001b[39;00m\u001b[38;5;21;01m.\u001b[39;00m\u001b[38;5;21;01mmodel_selection\u001b[39;00m \u001b[38;5;28;01mimport\u001b[39;00m train_test_split\n\u001b[0;32m     13\u001b[0m \u001b[38;5;66;03m#Divisão dos dados presentes nos nas variáveis x e y.\u001b[39;00m\n\u001b[1;32m---> 14\u001b[0m x_treino, x_teste, y_treino, y_teste \u001b[38;5;241m=\u001b[39m train_test_split(x, y, test_size\u001b[38;5;241m=\u001b[39m\u001b[38;5;241m0.3\u001b[39m, random_state\u001b[38;5;241m=\u001b[39m\u001b[38;5;241m42\u001b[39m)\n",
      "File \u001b[1;32mc:\\Users\\Lua.LUADESKTOP\\anaconda3\\Lib\\site-packages\\sklearn\\model_selection\\_split.py:2562\u001b[0m, in \u001b[0;36mtrain_test_split\u001b[1;34m(test_size, train_size, random_state, shuffle, stratify, *arrays)\u001b[0m\n\u001b[0;32m   2559\u001b[0m arrays \u001b[38;5;241m=\u001b[39m indexable(\u001b[38;5;241m*\u001b[39marrays)\n\u001b[0;32m   2561\u001b[0m n_samples \u001b[38;5;241m=\u001b[39m _num_samples(arrays[\u001b[38;5;241m0\u001b[39m])\n\u001b[1;32m-> 2562\u001b[0m n_train, n_test \u001b[38;5;241m=\u001b[39m _validate_shuffle_split(\n\u001b[0;32m   2563\u001b[0m     n_samples, test_size, train_size, default_test_size\u001b[38;5;241m=\u001b[39m\u001b[38;5;241m0.25\u001b[39m\n\u001b[0;32m   2564\u001b[0m )\n\u001b[0;32m   2566\u001b[0m \u001b[38;5;28;01mif\u001b[39;00m shuffle \u001b[38;5;129;01mis\u001b[39;00m \u001b[38;5;28;01mFalse\u001b[39;00m:\n\u001b[0;32m   2567\u001b[0m     \u001b[38;5;28;01mif\u001b[39;00m stratify \u001b[38;5;129;01mis\u001b[39;00m \u001b[38;5;129;01mnot\u001b[39;00m \u001b[38;5;28;01mNone\u001b[39;00m:\n",
      "File \u001b[1;32mc:\\Users\\Lua.LUADESKTOP\\anaconda3\\Lib\\site-packages\\sklearn\\model_selection\\_split.py:2236\u001b[0m, in \u001b[0;36m_validate_shuffle_split\u001b[1;34m(n_samples, test_size, train_size, default_test_size)\u001b[0m\n\u001b[0;32m   2233\u001b[0m n_train, n_test \u001b[38;5;241m=\u001b[39m \u001b[38;5;28mint\u001b[39m(n_train), \u001b[38;5;28mint\u001b[39m(n_test)\n\u001b[0;32m   2235\u001b[0m \u001b[38;5;28;01mif\u001b[39;00m n_train \u001b[38;5;241m==\u001b[39m \u001b[38;5;241m0\u001b[39m:\n\u001b[1;32m-> 2236\u001b[0m     \u001b[38;5;28;01mraise\u001b[39;00m \u001b[38;5;167;01mValueError\u001b[39;00m(\n\u001b[0;32m   2237\u001b[0m         \u001b[38;5;124m\"\u001b[39m\u001b[38;5;124mWith n_samples=\u001b[39m\u001b[38;5;132;01m{}\u001b[39;00m\u001b[38;5;124m, test_size=\u001b[39m\u001b[38;5;132;01m{}\u001b[39;00m\u001b[38;5;124m and train_size=\u001b[39m\u001b[38;5;132;01m{}\u001b[39;00m\u001b[38;5;124m, the \u001b[39m\u001b[38;5;124m\"\u001b[39m\n\u001b[0;32m   2238\u001b[0m         \u001b[38;5;124m\"\u001b[39m\u001b[38;5;124mresulting train set will be empty. Adjust any of the \u001b[39m\u001b[38;5;124m\"\u001b[39m\n\u001b[0;32m   2239\u001b[0m         \u001b[38;5;124m\"\u001b[39m\u001b[38;5;124maforementioned parameters.\u001b[39m\u001b[38;5;124m\"\u001b[39m\u001b[38;5;241m.\u001b[39mformat(n_samples, test_size, train_size)\n\u001b[0;32m   2240\u001b[0m     )\n\u001b[0;32m   2242\u001b[0m \u001b[38;5;28;01mreturn\u001b[39;00m n_train, n_test\n",
      "\u001b[1;31mValueError\u001b[0m: With n_samples=0, test_size=0.3 and train_size=None, the resulting train set will be empty. Adjust any of the aforementioned parameters."
     ]
    }
   ],
   "source": [
    "#Coluna que iremos prever\n",
    "y = dengue['CLASSI_FIN']\n",
    "\n",
    "x = dengue_sintomas\n",
    "\n",
    "# Exclui as linhas com valores ausentes em x e y\n",
    "#x = x.dropna()\n",
    "#y = y[x.index]  # Certifica-se de que y está alinhado com x após a exclusão de linhas\n",
    "\n",
    "#Importar o modelo de treino e teste\n",
    "from sklearn.model_selection import train_test_split\n",
    "\n",
    "#Divisão dos dados presentes nos nas variáveis x e y.\n",
    "x_treino, x_teste, y_treino, y_teste = train_test_split(x, y, test_size=0.3, random_state=42) \n",
    "#Analisará as combinações entre linhas e colunas na proporção de 30% para o conjunto de teste e 70% para o conjunto de treino.\n",
    "#Random state serve para garantir a divisão dos dados sempre que executar o código"
   ]
  },
  {
   "cell_type": "code",
   "execution_count": null,
   "metadata": {},
   "outputs": [],
   "source": [
    "from sklearn.ensemble import ExtraTreesClassifier\n",
    "\n",
    "modelo = ExtraTreesClassifier()\n",
    "\n",
    "#Fornecer variáreis para o modelo.\n",
    "modelo.fit(x_treino, y_treino)\n",
    "resultado = (modelo.score(x_teste, y_teste)) * 100\n",
    "print(f'A máquina registrou uma probabilidade de {resultado:.2f}% de acerto.')"
   ]
  },
  {
   "cell_type": "code",
   "execution_count": null,
   "metadata": {},
   "outputs": [],
   "source": [
    "from sklearn.metrics import accuracy_score\n",
    "\n",
    "y_pred = modelo.predict(x_teste)\n",
    "\n",
    "acuracia = accuracy_score(y_teste, y_pred) * 100\n",
    "acuracia"
   ]
  },
  {
   "cell_type": "code",
   "execution_count": null,
   "metadata": {},
   "outputs": [],
   "source": [
    "x_teste[10:40]"
   ]
  },
  {
   "cell_type": "code",
   "execution_count": null,
   "metadata": {},
   "outputs": [],
   "source": [
    "previsao = modelo.predict(x_teste[10:40])\n",
    "print(previsao)"
   ]
  },
  {
   "cell_type": "code",
   "execution_count": null,
   "metadata": {},
   "outputs": [],
   "source": [
    "from sklearn.linear_model import LogisticRegression\n",
    "from sklearn.tree import DecisionTreeClassifier\n",
    "from sklearn.ensemble import RandomForestClassifier, GradientBoostingClassifier\n",
    "from sklearn.svm import SVC\n",
    "\n",
    "modelos = [\n",
    "    LogisticRegression(),\n",
    "    DecisionTreeClassifier(),\n",
    "    RandomForestClassifier(),\n",
    "    GradientBoostingClassifier(),\n",
    "    SVC()\n",
    "]\n",
    "\n",
    "for modelo in modelos:\n",
    "    modelo.fit(x_treino, y_treino)\n",
    "    resultado = modelo.score(x_teste, y_teste)\n",
    "    print(f'{modelo.__class__.__name__} score: {resultado}')"
   ]
  }
 ],
 "metadata": {
  "kernelspec": {
   "display_name": "base",
   "language": "python",
   "name": "python3"
  },
  "language_info": {
   "codemirror_mode": {
    "name": "ipython",
    "version": 3
   },
   "file_extension": ".py",
   "mimetype": "text/x-python",
   "name": "python",
   "nbconvert_exporter": "python",
   "pygments_lexer": "ipython3",
   "version": "3.11.7"
  }
 },
 "nbformat": 4,
 "nbformat_minor": 2
}
