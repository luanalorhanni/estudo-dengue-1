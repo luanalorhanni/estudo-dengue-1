{
 "cells": [
  {
   "cell_type": "code",
   "execution_count": 16,
   "metadata": {},
   "outputs": [
    {
     "name": "stderr",
     "output_type": "stream",
     "text": [
      "C:\\Users\\Lua.LUADESKTOP\\AppData\\Local\\Temp\\ipykernel_14208\\1573765965.py:2: DtypeWarning: Columns (22,45,46,101) have mixed types. Specify dtype option on import or set low_memory=False.\n",
      "  dengue = pd.read_csv('DENGBR21.csv', encoding='iso-8859-1', delimiter=';')\n"
     ]
    }
   ],
   "source": [
    "import pandas as pd\n",
    "dengue = pd.read_csv('DENGBR21.csv', encoding='iso-8859-1', delimiter=';')"
   ]
  },
  {
   "cell_type": "markdown",
   "metadata": {},
   "source": [
    "Separação dos dataframe para sintomas da dengue"
   ]
  },
  {
   "cell_type": "code",
   "execution_count": 20,
   "metadata": {},
   "outputs": [
    {
     "name": "stdout",
     "output_type": "stream",
     "text": [
      "<class 'pandas.core.frame.DataFrame'>\n",
      "RangeIndex: 78030 entries, 0 to 78029\n",
      "Data columns (total 21 columns):\n",
      " #   Column      Non-Null Count  Dtype\n",
      "---  ------      --------------  -----\n",
      " 0   FEBRE       78030 non-null  int32\n",
      " 1   MIALGIA     78030 non-null  int32\n",
      " 2   CEFALEIA    78030 non-null  int32\n",
      " 3   EXANTEMA    78030 non-null  int32\n",
      " 4   VOMITO      78030 non-null  int32\n",
      " 5   NAUSEA      78030 non-null  int32\n",
      " 6   DOR_COSTAS  78030 non-null  int32\n",
      " 7   CONJUNTVIT  78030 non-null  int32\n",
      " 8   ARTRITE     78030 non-null  int32\n",
      " 9   ARTRALGIA   78030 non-null  int32\n",
      " 10  PETEQUIA_N  78030 non-null  int32\n",
      " 11  LEUCOPENIA  78030 non-null  int32\n",
      " 12  LACO        78030 non-null  int32\n",
      " 13  DOR_RETRO   78030 non-null  int32\n",
      " 14  DIABETES    78030 non-null  int32\n",
      " 15  HEMATOLOG   78030 non-null  int32\n",
      " 16  HEPATOPAT   78030 non-null  int32\n",
      " 17  RENAL       78030 non-null  int32\n",
      " 18  HIPERTENSA  78030 non-null  int32\n",
      " 19  ACIDO_PEPT  78030 non-null  int32\n",
      " 20  AUTO_IMUNE  78030 non-null  int32\n",
      "dtypes: int32(21)\n",
      "memory usage: 6.3 MB\n"
     ]
    }
   ],
   "source": [
    "dengue_sintomas = dengue.iloc[:, 23:44]\n",
    "dengue_sintomas = dengue_sintomas.fillna('0') #Substituição dos valores vazios por '0'\n",
    "dengue_sintomas = dengue_sintomas.astype(int) #Substituição dos tipos das colunas\n",
    "dengue_sintomas.info()"
   ]
  },
  {
   "cell_type": "markdown",
   "metadata": {},
   "source": [
    "Verificação dos valores vazios"
   ]
  },
  {
   "cell_type": "code",
   "execution_count": 21,
   "metadata": {},
   "outputs": [
    {
     "data": {
      "text/plain": [
       "FEBRE\n",
       "1.0    69849\n",
       "2.0     6826\n",
       "Name: count, dtype: int64"
      ]
     },
     "execution_count": 21,
     "metadata": {},
     "output_type": "execute_result"
    }
   ],
   "source": [
    "dengue['FEBRE'].value_counts()"
   ]
  },
  {
   "cell_type": "markdown",
   "metadata": {},
   "source": [
    "Dicionário de Classificação: 5 - Descartado |  10 - Dengue | 11 - Dengue com sinais de alarme | 12 - Dengue grave | 13 - Chikungunya | 0.0 Células vazias"
   ]
  },
  {
   "cell_type": "code",
   "execution_count": 22,
   "metadata": {},
   "outputs": [
    {
     "data": {
      "text/plain": [
       "CLASSI_FIN\n",
       "5.0     37381\n",
       "10.0    36481\n",
       "8.0      3577\n",
       "11.0      529\n",
       "12.0       34\n",
       "Name: count, dtype: int64"
      ]
     },
     "execution_count": 22,
     "metadata": {},
     "output_type": "execute_result"
    }
   ],
   "source": [
    "dengue['CLASSI_FIN'].value_counts()"
   ]
  },
  {
   "cell_type": "code",
   "execution_count": 26,
   "metadata": {},
   "outputs": [
    {
     "data": {
      "text/plain": [
       "CLASSI_FIN\n",
       "5.0     37381\n",
       "10.0    36481\n",
       "8.0      3577\n",
       "11.0      529\n",
       "12.0       34\n",
       "0.0        28\n",
       "Name: count, dtype: int64"
      ]
     },
     "execution_count": 26,
     "metadata": {},
     "output_type": "execute_result"
    }
   ],
   "source": [
    "dengue['CLASSI_FIN'] = dengue['CLASSI_FIN'].fillna('0')\n",
    "dengue['CLASSI_FIN'] = dengue['CLASSI_FIN'].astype(float)  #Substituição de células vazias por '0.0'\n",
    "dengue['CLASSI_FIN'].isnull().sum()\n",
    "dengue['CLASSI_FIN'].value_counts()"
   ]
  },
  {
   "cell_type": "markdown",
   "metadata": {},
   "source": [
    "Dicionário de Critério de Confirmação/Descarte: 1 - Laboratório | 2 - Clínico Epidemiológico | 3 - Em investigação | 0.0 Células vazias\n"
   ]
  },
  {
   "cell_type": "code",
   "execution_count": null,
   "metadata": {},
   "outputs": [],
   "source": [
    "dengue['CRITERIO'].value_counts()"
   ]
  },
  {
   "cell_type": "code",
   "execution_count": null,
   "metadata": {},
   "outputs": [],
   "source": [
    "dengue['CRITERIO'].isnull().sum() #Soma de células vazias"
   ]
  },
  {
   "cell_type": "code",
   "execution_count": null,
   "metadata": {},
   "outputs": [],
   "source": [
    "dengue['CRITERIO'] = dengue['CRITERIO'].fillna('0.0') #Substituição de células vazias por '0.0'\n",
    "dengue['CRITERIO'].value_counts()"
   ]
  },
  {
   "cell_type": "markdown",
   "metadata": {},
   "source": [
    "Estudo de previsão da coluna classificação baseadas nos sintomas da dengue"
   ]
  },
  {
   "cell_type": "code",
   "execution_count": null,
   "metadata": {},
   "outputs": [],
   "source": [
    "# from sklearn.preprocessing import LabelEncoder\n",
    "# codificador = LabelEncoder() #Transformador codificador\n",
    "\n",
    "# dengue['CLASSI_FIN'] = dengue['CLASSI_FIN'].astype(str) #Mudança de objeto para string\n",
    "# dengue['CLASSI_FIN'] = codificador.fit_transform(dengue['CLASSI_FIN']) #Mundaça de string codificada para tipo numérico\n",
    "\n",
    "# #Criação de lista base para incluir no laço de repetição\n",
    "# sintomas = ['FEBRE','MIALGIA', 'CEFALEIA', 'EXANTEMA', 'VOMITO', 'NAUSEA',\n",
    "#             'DOR_COSTAS', 'CONJUNTVIT', 'ARTRITE', 'ARTRALGIA', 'PETEQUIA_N',\n",
    "#             'LEUCOPENIA', 'LACO', 'DOR_RETRO', 'DIABETES', 'HEMATOLOG', 'HEPATOPAT',\n",
    "#             'RENAL', 'HIPERTENSA', 'ACIDO_PEPT', 'AUTO_IMUNE']\n",
    "\n",
    "# # Loop para converter e codificar cada sintoma\n",
    "# for sintoma in sintomas:\n",
    "#     dengue_sintomas[sintoma] = dengue_sintomas[sintoma].astype(str)\n",
    "#     dengue_sintomas[sintoma] = codificador.fit_transform(dengue_sintomas[sintoma])"
   ]
  },
  {
   "cell_type": "code",
   "execution_count": null,
   "metadata": {},
   "outputs": [],
   "source": [
    "#dengue_sintomas.head() #Verificação do cabeçalho dos sintomas"
   ]
  },
  {
   "cell_type": "code",
   "execution_count": 27,
   "metadata": {},
   "outputs": [],
   "source": [
    "#Coluna que iremos prever\n",
    "y = dengue['CLASSI_FIN']\n",
    "\n",
    "x = dengue_sintomas\n",
    "\n",
    "#Importar o modelo de treino e teste\n",
    "from sklearn.model_selection import train_test_split\n",
    "\n",
    "#Divisão dos dados presentes nos nas variáveis x e y.\n",
    "x_treino, x_teste, y_treino, y_teste = train_test_split(x, y, test_size=0.3, random_state=42) \n",
    "#Analisará as combinações entre linhas e colunas na proporção de 30% para o conjunto de teste e 70% para o conjunto de treino.\n",
    "#Random state serve para garantir a divisão dos dados sempre que executar o código"
   ]
  },
  {
   "cell_type": "code",
   "execution_count": 28,
   "metadata": {},
   "outputs": [
    {
     "name": "stdout",
     "output_type": "stream",
     "text": [
      "A máquina registrou uma probabilidade de 58.58% de acerto.\n"
     ]
    }
   ],
   "source": [
    "from sklearn.ensemble import ExtraTreesClassifier\n",
    "\n",
    "modelo = ExtraTreesClassifier()\n",
    "\n",
    "#Fornecer variáreis para o modelo.\n",
    "modelo.fit(x_treino, y_treino)\n",
    "resultado = (modelo.score(x_teste, y_teste)) * 100\n",
    "print(f'A máquina registrou uma probabilidade de {resultado:.2f}% de acerto.')"
   ]
  },
  {
   "cell_type": "code",
   "execution_count": 29,
   "metadata": {},
   "outputs": [
    {
     "data": {
      "text/plain": [
       "58.58003332051776"
      ]
     },
     "execution_count": 29,
     "metadata": {},
     "output_type": "execute_result"
    }
   ],
   "source": [
    "from sklearn.metrics import accuracy_score\n",
    "\n",
    "y_pred = modelo.predict(x_teste)\n",
    "\n",
    "acuracia = accuracy_score(y_teste, y_pred) * 100\n",
    "acuracia"
   ]
  },
  {
   "cell_type": "code",
   "execution_count": null,
   "metadata": {},
   "outputs": [],
   "source": [
    "from sklearn.linear_model import LogisticRegression\n",
    "from sklearn.tree import DecisionTreeClassifier\n",
    "from sklearn.ensemble import RandomForestClassifier, GradientBoostingClassifier\n",
    "from sklearn.svm import SVC\n",
    "\n",
    "modelos = [\n",
    "    LogisticRegression(),\n",
    "    DecisionTreeClassifier(),\n",
    "    RandomForestClassifier(),\n",
    "    GradientBoostingClassifier(),\n",
    "    SVC()\n",
    "]\n",
    "\n",
    "for modelo in modelos:\n",
    "    modelo.fit(x_treino, y_treino)\n",
    "    resultado = modelo.score(x_teste, y_teste)\n",
    "    print(f'{modelo.__class__.__name__} score: {resultado}')"
   ]
  }
 ],
 "metadata": {
  "kernelspec": {
   "display_name": "base",
   "language": "python",
   "name": "python3"
  },
  "language_info": {
   "codemirror_mode": {
    "name": "ipython",
    "version": 3
   },
   "file_extension": ".py",
   "mimetype": "text/x-python",
   "name": "python",
   "nbconvert_exporter": "python",
   "pygments_lexer": "ipython3",
   "version": "3.11.7"
  }
 },
 "nbformat": 4,
 "nbformat_minor": 2
}
