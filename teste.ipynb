{
 "cells": [
  {
   "cell_type": "code",
   "execution_count": 1,
   "metadata": {},
   "outputs": [],
   "source": [
    "import pandas as pd\n",
    "dengue = pd.read_excel('DENGBR21.xlsx')"
   ]
  },
  {
   "cell_type": "code",
   "execution_count": 3,
   "metadata": {},
   "outputs": [
    {
     "data": {
      "text/plain": [
       "FEBRE         1355\n",
       "MIALGIA       1355\n",
       "CEFALEIA      1355\n",
       "EXANTEMA      1355\n",
       "VOMITO        1355\n",
       "NAUSEA        1355\n",
       "DOR_COSTAS    1355\n",
       "CONJUNTVIT    1355\n",
       "ARTRITE       1355\n",
       "ARTRALGIA     1355\n",
       "PETEQUIA_N    1355\n",
       "LEUCOPENIA    1355\n",
       "LACO          1355\n",
       "DOR_RETRO     1355\n",
       "DIABETES      1355\n",
       "HEMATOLOG     1355\n",
       "HEPATOPAT     1355\n",
       "RENAL         1355\n",
       "HIPERTENSA    1355\n",
       "ACIDO_PEPT    1355\n",
       "AUTO_IMUNE    1355\n",
       "dtype: int64"
      ]
     },
     "execution_count": 3,
     "metadata": {},
     "output_type": "execute_result"
    }
   ],
   "source": [
    "dengue_sintomas = dengue.iloc[:, 23:44]\n",
    "dengue_sintomas.isnull().sum()"
   ]
  },
  {
   "cell_type": "code",
   "execution_count": null,
   "metadata": {},
   "outputs": [],
   "source": []
  }
 ],
 "metadata": {
  "kernelspec": {
   "display_name": "base",
   "language": "python",
   "name": "python3"
  },
  "language_info": {
   "codemirror_mode": {
    "name": "ipython",
    "version": 3
   },
   "file_extension": ".py",
   "mimetype": "text/x-python",
   "name": "python",
   "nbconvert_exporter": "python",
   "pygments_lexer": "ipython3",
   "version": "3.11.7"
  }
 },
 "nbformat": 4,
 "nbformat_minor": 2
}
