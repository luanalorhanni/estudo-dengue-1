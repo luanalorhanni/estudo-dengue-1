{
 "cells": [
  {
   "cell_type": "code",
   "execution_count": null,
   "metadata": {},
   "outputs": [],
   "source": [
    "import pandas as pd\n",
    "dengue = pd.read_csv('DENGBR21.csv', encoding='iso-8859-1', delimiter=';')"
   ]
  },
  {
   "cell_type": "markdown",
   "metadata": {},
   "source": [
    "<h4>Testes estatísticos\n",
    "<p> • Usados para testes de classificação\n",
    "<p> • <b>f_classif</b> é adequado quando os dados são numéricos e a variável alvo é categórica\n",
    "<p> • <b>O mutual_info_classif</b> é mais adequaado quando não há uma dependência linear entre as features e a variável alvo."
   ]
  },
  {
   "cell_type": "code",
   "execution_count": null,
   "metadata": {},
   "outputs": [],
   "source": [
    "dengue_sintomas = dengue.iloc[:, 23:44].astype(float)\n",
    "dengue_sintomas = dengue.iloc[:, 23:44].fillna('0')\n",
    "dengue_sintomas.value_counts()"
   ]
  },
  {
   "cell_type": "code",
   "execution_count": null,
   "metadata": {},
   "outputs": [],
   "source": [
    "dengue['CLASSI_FIN'] = dengue['CLASSI_FIN'].astype(float)\n",
    "dengue['CLASSI_FIN'] = dengue['CLASSI_FIN'].fillna('0')\n",
    "dengue['CLASSI_FIN'].value_counts()"
   ]
  },
  {
   "cell_type": "code",
   "execution_count": null,
   "metadata": {},
   "outputs": [],
   "source": [
    "x = dengue_sintomas\n",
    "y = dengue['CLASSI_FIN']"
   ]
  },
  {
   "cell_type": "code",
   "execution_count": null,
   "metadata": {},
   "outputs": [],
   "source": [
    "from sklearn.feature_selection import SelectKBest\n",
    "from sklearn.feature_selection import f_classif"
   ]
  },
  {
   "cell_type": "markdown",
   "metadata": {},
   "source": [
    "Buscará em cada dado quais características estão relacionadas com a variável alvo, através da combinação dos números. Desvantagens estar em escolher quantidade de colunas."
   ]
  },
  {
   "cell_type": "code",
   "execution_count": null,
   "metadata": {},
   "outputs": [],
   "source": [
    "f_classif = SelectKBest(score_func = f_classif, k = 5) #Selecionará da classificação as 5 colunas melhores interpretadas\n",
    "fit = f_classif.fit(x, y) #Método fit que vai instacia as varíaveis para receber os dados\n",
    "features = fit.transform(x) #Método que transforma os dados a aprende a representação\n",
    "print(features) #Imprime as caracterísitcas com maiores pontuações "
   ]
  },
  {
   "cell_type": "code",
   "execution_count": null,
   "metadata": {},
   "outputs": [],
   "source": [
    "#Descobrindo o índice das colunas para saber quais são\n",
    "colunas = fit.get_support(indices=True) #Indentificação das caracterísiticas do fit\n",
    "dengue_sintomas.iloc[:, colunas] #Localização das colunas"
   ]
  }
 ],
 "metadata": {
  "kernelspec": {
   "display_name": "base",
   "language": "python",
   "name": "python3"
  },
  "language_info": {
   "codemirror_mode": {
    "name": "ipython",
    "version": 3
   },
   "file_extension": ".py",
   "mimetype": "text/x-python",
   "name": "python",
   "nbconvert_exporter": "python",
   "pygments_lexer": "ipython3",
   "version": "3.11.7"
  }
 },
 "nbformat": 4,
 "nbformat_minor": 2
}
